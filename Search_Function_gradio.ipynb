{
  "nbformat": 4,
  "nbformat_minor": 0,
  "metadata": {
    "colab": {
      "provenance": [],
      "authorship_tag": "ABX9TyNYNOfVNpFyozuLMMsh2FrH",
      "include_colab_link": true
    },
    "kernelspec": {
      "name": "python3",
      "display_name": "Python 3"
    },
    "language_info": {
      "name": "python"
    }
  },
  "cells": [
    {
      "cell_type": "markdown",
      "metadata": {
        "id": "view-in-github",
        "colab_type": "text"
      },
      "source": [
        "<a href=\"https://colab.research.google.com/github/PrathamBhat-prog/YT-Search/blob/main/Search_Function_gradio.ipynb\" target=\"_parent\"><img src=\"https://colab.research.google.com/assets/colab-badge.svg\" alt=\"Open In Colab\"/></a>"
      ]
    },
    {
      "cell_type": "code",
      "source": [
        "import gradio as gr\n",
        "import requests\n",
        "\n",
        "API_URL = \"http://<Your Public IP address>/search\"  # replace with your actual ECS public IP if changed\n",
        "\n",
        "def search_youtube(query):\n",
        "    try:\n",
        "        response = requests.get(API_URL, params={\"query\": query})\n",
        "        response.raise_for_status()\n",
        "        data = response.json()\n",
        "\n",
        "        titles = data.get(\"title\", [])\n",
        "        video_ids = data.get(\"video_id\", [])\n",
        "\n",
        "        if not titles or not video_ids:\n",
        "            return \"❌ No results found. Try another search.\"\n",
        "\n",
        "        # Build HTML result with clickable links and thumbnails\n",
        "        result_html = \"\"\n",
        "        for title, vid in zip(titles, video_ids):\n",
        "            video_url = f\"https://www.youtube.com/watch?v={vid}\"\n",
        "            thumbnail_url = f\"https://img.youtube.com/vi/{vid}/0.jpg\"\n",
        "            result_html += f\"\"\"\n",
        "                <div style='margin-bottom:20px'>\n",
        "                    <a href=\"{video_url}\" target=\"_blank\">\n",
        "                        <img src=\"{thumbnail_url}\" style=\"width:100%; max-width:400px; border-radius:10px;\"/>\n",
        "                        <p style=\"font-size:16px; font-weight:bold; margin:5px 0;\">{title}</p>\n",
        "                    </a>\n",
        "                </div>\n",
        "            \"\"\"\n",
        "\n",
        "        return result_html\n",
        "\n",
        "    except Exception as e:\n",
        "        return f\"🚨 Error: {str(e)}\"\n",
        "\n",
        "# Build Gradio UI with Shaw's style\n",
        "with gr.Blocks(title=\"🧠 YouTube LLM Search\") as demo:\n",
        "    gr.Markdown(\"## 🔎 Search for YouTube Videos About LLMs\")\n",
        "    gr.Markdown(\"Enter a topic below (e.g., 'RAG', 'Fine-tuning', 'Transformers') and get clickable results with thumbnails.\")\n",
        "\n",
        "    with gr.Row():\n",
        "        query_input = gr.Textbox(placeholder=\"Search here...\", label=\"Search\")\n",
        "        search_btn = gr.Button(\"Search 🔍\")\n",
        "\n",
        "    output_html = gr.HTML()\n",
        "\n",
        "    search_btn.click(fn=search_youtube, inputs=query_input, outputs=output_html)\n",
        "\n",
        "demo.launch()\n"
      ],
      "metadata": {
        "colab": {
          "base_uri": "https://localhost:8080/",
          "height": 646
        },
        "id": "mmw7cETkMh9O",
        "outputId": "9be69eec-4aa0-481e-da51-b41d98a82ab7"
      },
      "execution_count": 14,
      "outputs": [
        {
          "output_type": "stream",
          "name": "stdout",
          "text": [
            "It looks like you are running Gradio on a hosted Jupyter notebook, which requires `share=True`. Automatically setting `share=True` (you can turn this off by setting `share=False` in `launch()` explicitly).\n",
            "\n",
            "Colab notebook detected. To show errors in colab notebook, set debug=True in launch()\n",
            "* Running on public URL: https://b5c4fe18a525fa20ef.gradio.live\n",
            "\n",
            "This share link expires in 1 week. For free permanent hosting and GPU upgrades, run `gradio deploy` from the terminal in the working directory to deploy to Hugging Face Spaces (https://huggingface.co/spaces)\n"
          ]
        },
        {
          "output_type": "display_data",
          "data": {
            "text/plain": [
              "<IPython.core.display.HTML object>"
            ],
            "text/html": [
              "<div><iframe src=\"https://b5c4fe18a525fa20ef.gradio.live\" width=\"100%\" height=\"500\" allow=\"autoplay; camera; microphone; clipboard-read; clipboard-write;\" frameborder=\"0\" allowfullscreen></iframe></div>"
            ]
          },
          "metadata": {}
        },
        {
          "output_type": "execute_result",
          "data": {
            "text/plain": []
          },
          "metadata": {},
          "execution_count": 14
        }
      ]
    },
    {
      "cell_type": "code",
      "source": [],
      "metadata": {
        "id": "HF0kU3NsRZdo"
      },
      "execution_count": null,
      "outputs": []
    }
  ]
}